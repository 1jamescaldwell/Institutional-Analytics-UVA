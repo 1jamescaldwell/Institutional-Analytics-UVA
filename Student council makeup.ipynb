{
 "cells": [
  {
   "cell_type": "markdown",
   "metadata": {},
   "source": [
    "James Caldwell <br>\n",
    "3/5/25 <br>\n",
    "Calculates how many psp students are in student council/trustees vs percentage of entire student body."
   ]
  },
  {
   "cell_type": "code",
   "execution_count": 5,
   "metadata": {},
   "outputs": [],
   "source": [
    "import pandas as pd\n",
    "import os\n",
    "os.chdir('v:\\\\Data Requests\\\\2025 Requests\\\\576')\n",
    "psp_list = pd.read_csv('PSP All Dec 17.csv')"
   ]
  },
  {
   "cell_type": "code",
   "execution_count": 6,
   "metadata": {},
   "outputs": [],
   "source": [
    "\n",
    "cwd = os.getcwd()\n",
    "folder_path = os.path.join(cwd, 'Council + Trustees')\n",
    "\n",
    "# List all Excel files in the folder\n",
    "excel_files = [f for f in os.listdir(folder_path) if f.endswith('.xlsx')]\n",
    "\n",
    "# Read all Excel files into a list of DataFrames\n",
    "dataframes = []\n",
    "for file in excel_files:\n",
    "    file_path = os.path.join(folder_path, file)\n",
    "    df = pd.read_excel(file_path)\n",
    "    if 'Computing ID' in df.columns:\n",
    "        df = df.rename(columns={'Computing ID': 'Email'})\n",
    "    dataframes.append(df)"
   ]
  },
  {
   "cell_type": "code",
   "execution_count": 8,
   "metadata": {},
   "outputs": [],
   "source": [
    "# Combine all \"email\" columns from the 4 dataframes into a single set for fast lookup\n",
    "all_emails = pd.concat([df[\"Email\"] for df in dataframes]).unique()\n",
    "# Add a new column to psp_list checking if \"Email\" exists in any of the 4 dataframes\n",
    "psp_list[\"Council\"] = psp_list[\"Email\"].isin(all_emails).map({True: \"Yes\", False: \"No\"})"
   ]
  },
  {
   "cell_type": "code",
   "execution_count": 14,
   "metadata": {},
   "outputs": [
    {
     "data": {
      "text/plain": [
       "18"
      ]
     },
     "execution_count": 14,
     "metadata": {},
     "output_type": "execute_result"
    }
   ],
   "source": [
    "len(psp_list[psp_list['Council']=='Yes'])"
   ]
  },
  {
   "cell_type": "code",
   "execution_count": 1,
   "metadata": {},
   "outputs": [],
   "source": [
    "# psp_list[psp_list['Council']=='Yes']"
   ]
  }
 ],
 "metadata": {
  "kernelspec": {
   "display_name": "Python 3",
   "language": "python",
   "name": "python3"
  },
  "language_info": {
   "codemirror_mode": {
    "name": "ipython",
    "version": 3
   },
   "file_extension": ".py",
   "mimetype": "text/x-python",
   "name": "python",
   "nbconvert_exporter": "python",
   "pygments_lexer": "ipython3",
   "version": "3.10.0"
  }
 },
 "nbformat": 4,
 "nbformat_minor": 2
}
