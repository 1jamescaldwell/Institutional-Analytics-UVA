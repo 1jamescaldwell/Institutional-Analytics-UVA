{
 "cells": [
  {
   "cell_type": "markdown",
   "id": "80f9b7f2",
   "metadata": {},
   "source": [
    "James Caldwell <br>\n",
    "UVA IRA <br>\n",
    "FVTGE FA Item Type Mapping Review <br>\n",
    "Aug 2025 <br>\n",
    "\n",
    "Steps: <br>\n",
    "Import both excel files, remove rows with ??? from Aug25 map, vertically concatenate the data frames, remove whitespaces from data, drop duplicate rows, create Expanded - Keyword 2 flag, save to excel"
   ]
  },
  {
   "cell_type": "code",
   "execution_count": null,
   "id": "49b5865c",
   "metadata": {},
   "outputs": [],
   "source": [
    "import pandas as pd\n",
    "import numpy as np\n",
    "\n",
    "# 1. Import data\n",
    "Aug25_map = pd.read_excel(r'\\...item_type_summary_2025_08_20.xlsx', sheet_name='Sheet1')\n",
    "original_mapping = pd.read_excel(r'\\...item_detail_fees_charges_item_types.xlsx', sheet_name='Sheet1')\n",
    "\n",
    "# 2. Clean data\n",
    "Aug25_map['2025 Status'] = 'New Item Type'\n",
    "original_mapping['2025 Status'] = 'Existing Item Type'\n",
    "Aug25_map = Aug25_map[Aug25_map['Include: Tuition & Fees'] != '???']\n",
    "\n",
    "# 3. Stack both DataFrames\n",
    "combined = pd.concat([original_mapping, Aug25_map], ignore_index=True)\n",
    "\n",
    "# 4. Strip whitespace from string columns\n",
    "for col in combined.columns:\n",
    "    if combined[col].dtype == object:  # string columns\n",
    "        combined[col] = combined[col].str.strip()\n",
    "\n",
    "# 5. Drop rows that appear in both, ignoring 2025 Status column (keeping the first occurrence, from the original mapping)\n",
    "exclusive = combined.drop_duplicates(\n",
    "    subset=[col for col in combined.columns if col != \"2025 Status\"],\n",
    "    keep='first'\n",
    ")\n",
    "exclusive = exclusive.sort_values(by='Item Type').reset_index(drop=True)\n",
    "\n",
    "\n",
    "# 6. Create flag for \"Expanded - Keyword 2\", if two rows are identical except for \"Item Type Keyword 2\"\n",
    "cols_to_check = [col for col in exclusive.columns if col not in [\"Item Type Keyword 2\", \"2025 Status\"]]\n",
    "    # Create a boolean mask for duplicated rows (excluding the first occurrence)\n",
    "mask = exclusive.duplicated(subset=cols_to_check, keep='first')\n",
    "    # Assign \"Expanded - Keyword 2\" only to those rows\n",
    "exclusive.loc[mask, \"2025 Status\"] = \"Expanded - Keyword 2\"\n",
    "\n",
    "# 7. If two rows are identical except for \"Include: Tuition & Fees\" where one is empty, flag the one with non-empty \"Include: Tuition & Fees\"\n",
    "    # The rows with blanks were then manually deleted in excel after the script was run\n",
    "    # Columns to check for duplication\n",
    "cols_to_check = [col for col in exclusive.columns if col not in [\"2025 Status\", \"Include: Tuition & Fees\"]]\n",
    "    # Create helper column\n",
    "exclusive['Include: Tuition and Fees_filled'] = exclusive['Include: Tuition & Fees'].notna() & (exclusive['Include: Tuition & Fees'] != '')\n",
    "    # Sort descending so that non-blank comes first\n",
    "exclusive = exclusive.sort_values(by=['Include: Tuition and Fees_filled'], ascending=True)\n",
    "    # Create a boolean mask for duplicated rows (excluding the first occurrence)\n",
    "mask = exclusive.duplicated(subset=cols_to_check, keep='first')\n",
    "    # Assign \"Expanded - Keyword 2\" only to those duplicate rows\n",
    "exclusive.loc[mask, \"2025 Status\"] = \"Updated Include: Tuition & Fees (previously blank)\"\n",
    "    # Drop helper column\n",
    "exclusive.drop(columns=['Include: Tuition and Fees_filled'], inplace=True)\n",
    "exclusive = exclusive.sort_values(by='Item Type').reset_index(drop=True)\n",
    "\n",
    "# 8. Save to excel\n",
    "output_path = r'...\\item_type_summary_2025_08_20_combined2.xlsx'\n",
    "exclusive.to_excel(output_path, index=False)\n"
   ]
  },
  {
   "cell_type": "code",
   "execution_count": 4,
   "id": "445b7861",
   "metadata": {},
   "outputs": [
    {
     "data": {
      "application/vnd.microsoft.datawrangler.viewer.v0+json": {
       "columns": [
        {
         "name": "index",
         "rawType": "int64",
         "type": "integer"
        },
        {
         "name": "Item Type",
         "rawType": "int64",
         "type": "integer"
        },
        {
         "name": "Item Type Desc",
         "rawType": "object",
         "type": "string"
        },
        {
         "name": "Item Type Keyword 1",
         "rawType": "object",
         "type": "string"
        },
        {
         "name": "Item Type Keyword 2",
         "rawType": "object",
         "type": "string"
        },
        {
         "name": "Item Type Keyword 3",
         "rawType": "object",
         "type": "string"
        },
        {
         "name": "Include: Tuition & Fees",
         "rawType": "object",
         "type": "string"
        },
        {
         "name": "2025 Status",
         "rawType": "object",
         "type": "string"
        }
       ],
       "ref": "22d61cb4-c5fb-4661-a5c9-0bdb9828b51d",
       "rows": [
        [
         "112",
         "101316000015",
         "Tuition-Arts&Sciences Non-VA",
         "TUITION",
         "...",
         "...",
         "True",
         "Existing Item Type"
        ],
        [
         "113",
         "101316000015",
         "Tuition-Arts&Sciences Non-VA",
         "TUITION",
         "TUITUGDIFF",
         "...",
         "True",
         "Expanded - Keyword 2"
        ]
       ],
       "shape": {
        "columns": 7,
        "rows": 2
       }
      },
      "text/html": [
       "<div>\n",
       "<style scoped>\n",
       "    .dataframe tbody tr th:only-of-type {\n",
       "        vertical-align: middle;\n",
       "    }\n",
       "\n",
       "    .dataframe tbody tr th {\n",
       "        vertical-align: top;\n",
       "    }\n",
       "\n",
       "    .dataframe thead th {\n",
       "        text-align: right;\n",
       "    }\n",
       "</style>\n",
       "<table border=\"1\" class=\"dataframe\">\n",
       "  <thead>\n",
       "    <tr style=\"text-align: right;\">\n",
       "      <th></th>\n",
       "      <th>Item Type</th>\n",
       "      <th>Item Type Desc</th>\n",
       "      <th>Item Type Keyword 1</th>\n",
       "      <th>Item Type Keyword 2</th>\n",
       "      <th>Item Type Keyword 3</th>\n",
       "      <th>Include: Tuition &amp; Fees</th>\n",
       "      <th>2025 Status</th>\n",
       "    </tr>\n",
       "  </thead>\n",
       "  <tbody>\n",
       "    <tr>\n",
       "      <th>112</th>\n",
       "      <td>101316000015</td>\n",
       "      <td>Tuition-Arts&amp;Sciences Non-VA</td>\n",
       "      <td>TUITION</td>\n",
       "      <td>...</td>\n",
       "      <td>...</td>\n",
       "      <td>True</td>\n",
       "      <td>Existing Item Type</td>\n",
       "    </tr>\n",
       "    <tr>\n",
       "      <th>113</th>\n",
       "      <td>101316000015</td>\n",
       "      <td>Tuition-Arts&amp;Sciences Non-VA</td>\n",
       "      <td>TUITION</td>\n",
       "      <td>TUITUGDIFF</td>\n",
       "      <td>...</td>\n",
       "      <td>True</td>\n",
       "      <td>Expanded - Keyword 2</td>\n",
       "    </tr>\n",
       "  </tbody>\n",
       "</table>\n",
       "</div>"
      ],
      "text/plain": [
       "        Item Type                Item Type Desc Item Type Keyword 1  \\\n",
       "112  101316000015  Tuition-Arts&Sciences Non-VA             TUITION   \n",
       "113  101316000015  Tuition-Arts&Sciences Non-VA             TUITION   \n",
       "\n",
       "    Item Type Keyword 2 Item Type Keyword 3 Include: Tuition & Fees  \\\n",
       "112                 ...                 ...                    True   \n",
       "113          TUITUGDIFF                 ...                    True   \n",
       "\n",
       "              2025 Status  \n",
       "112    Existing Item Type  \n",
       "113  Expanded - Keyword 2  "
      ]
     },
     "execution_count": 4,
     "metadata": {},
     "output_type": "execute_result"
    }
   ],
   "source": [
    "exclusive[\n",
    "    exclusive['Item Type'].isin([\n",
    "        101316000015\n",
    "    ])\n",
    "]\n"
   ]
  }
 ],
 "metadata": {
  "kernelspec": {
   "display_name": "Python 3",
   "language": "python",
   "name": "python3"
  },
  "language_info": {
   "codemirror_mode": {
    "name": "ipython",
    "version": 3
   },
   "file_extension": ".py",
   "mimetype": "text/x-python",
   "name": "python",
   "nbconvert_exporter": "python",
   "pygments_lexer": "ipython3",
   "version": "3.10.0"
  }
 },
 "nbformat": 4,
 "nbformat_minor": 5
}
