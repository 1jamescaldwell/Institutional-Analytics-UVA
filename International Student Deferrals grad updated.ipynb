{
 "cells": [
  {
   "cell_type": "markdown",
   "metadata": {},
   "source": [
    "James Caldwell\n",
    "UVA IRA 2/3/15\n",
    "\n",
    "This script was used to analyze international student deferrals (grad students) and if Visa status might have an effect on deferral decisions.\n",
    "\n",
    "I re-wrote the initial script that I used to process this dataset. This one is quite a bit better. It now includes several things that reduced the amount of steps that I originally had to do using excel, such as sorting and creating masked names (using the factorize function) "
   ]
  },
  {
   "cell_type": "code",
   "execution_count": 40,
   "metadata": {},
   "outputs": [],
   "source": [
    "import os\n",
    "import pandas as pd\n",
    "\n",
    "# Define the folder path\n",
    "file_path = r'V:\\Data Requests\\2024 Requests\\Data Request 546\\defer data\\Grad deferrals.xlsx'\n",
    "\n",
    "# Load deferral data\n",
    "deferral_data = pd.read_excel(file_path)"
   ]
  },
  {
   "cell_type": "code",
   "execution_count": 41,
   "metadata": {},
   "outputs": [],
   "source": [
    "deferral_data = deferral_data.sort_values(by='Student System ID')\n",
    "deferral_data.drop(columns='#', inplace=True)\n",
    "unique_ids = deferral_data['Student System ID'].unique()\n",
    "\n",
    "# Create a csv to the student IDs to select the correct start date data in Qlik\n",
    "pd.DataFrame(unique_ids).to_csv('grad IDs.csv', index=False)"
   ]
  },
  {
   "cell_type": "code",
   "execution_count": 42,
   "metadata": {},
   "outputs": [],
   "source": [
    "start_dates = pd.read_excel(r\"V:\\Data Requests\\2024 Requests\\Data Request 546\\start dates\\Grad start dates.xlsx\")\n",
    "\n",
    "# Sort by ID then start term. Keep the first (earliest) enrolled term\n",
    "start_dates = start_dates.sort_values(by=['Student System ID', 'Term Desc'])\n",
    "start_dates = start_dates.drop_duplicates(subset=['Student System ID'], keep='first')\n",
    "\n",
    "start_dates.rename(columns={'Term Desc': 'Start Term Desc'}, inplace=True)"
   ]
  },
  {
   "cell_type": "code",
   "execution_count": 36,
   "metadata": {},
   "outputs": [],
   "source": [
    "df = pd.merge(deferral_data, start_dates[['Student System ID','Start Term Desc']], on='Student System ID', how='left')\n",
    "\n",
    "# Create a new column for masked names. Use the factorize function to assign a unique number to each name, while keeping tab of duplicates\n",
    "df['Name Masked'] = ['Student ' + str(i) for i in (pd.factorize(df['Student System ID'])[0] + 1)]"
   ]
  },
  {
   "cell_type": "code",
   "execution_count": 37,
   "metadata": {},
   "outputs": [],
   "source": [
    "df.to_excel(r'V:\\Data Requests\\2024 Requests\\Data Request 546\\grad summary.xlsx', index=False)"
   ]
  }
 ],
 "metadata": {
  "kernelspec": {
   "display_name": "Python 3",
   "language": "python",
   "name": "python3"
  },
  "language_info": {
   "codemirror_mode": {
    "name": "ipython",
    "version": 3
   },
   "file_extension": ".py",
   "mimetype": "text/x-python",
   "name": "python",
   "nbconvert_exporter": "python",
   "pygments_lexer": "ipython3",
   "version": "3.10.0"
  }
 },
 "nbformat": 4,
 "nbformat_minor": 2
}
