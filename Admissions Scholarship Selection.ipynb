{
 "cells": [
  {
   "cell_type": "markdown",
   "metadata": {},
   "source": [
    "James Caldwell <br>\n",
    "UVA IRA <br>\n",
    "2/11/25\n"
   ]
  },
  {
   "cell_type": "markdown",
   "metadata": {},
   "source": [
    "Code written to process and merge NSC application (accepted and not accepted students) with UVA Admission demographics. Used for scholarship award decisions. Data request 560."
   ]
  },
  {
   "cell_type": "code",
   "execution_count": 355,
   "metadata": {},
   "outputs": [
    {
     "name": "stderr",
     "output_type": "stream",
     "text": [
      "C:\\Users\\ywe4kw\\AppData\\Local\\Temp\\ipykernel_14172\\2666348552.py:3: DeprecationWarning: `magic(...)` is deprecated since IPython 0.13 (warning added in 8.1), use run_line_magic(magic_name, parameter_s).\n",
      "  get_ipython().magic('reset -f')\n"
     ]
    }
   ],
   "source": [
    "# Clear all variables in the current environment\n",
    "from IPython import get_ipython\n",
    "get_ipython().magic('reset -f')"
   ]
  },
  {
   "cell_type": "code",
   "execution_count": 356,
   "metadata": {},
   "outputs": [],
   "source": [
    "import pandas as pd\n",
    "import numpy as np"
   ]
  },
  {
   "cell_type": "code",
   "execution_count": 357,
   "metadata": {},
   "outputs": [],
   "source": [
    "# nsc = pd.read_csv('003745st_601528_DETLRPT_DA_11182024112349_deniedadmission_f14f24_003745.csv',usecols=['Requester Return Field'],nrows=1000)\n",
    "nsc = pd.read_csv('003745st_601528_DETLRPT_DA_11182024112349_deniedadmission_f14f24_003745.csv',nrows=30000, dtype=str)"
   ]
  },
  {
   "cell_type": "code",
   "execution_count": 358,
   "metadata": {},
   "outputs": [],
   "source": [
    "#for creating unduplicated list\n",
    "yesno = 0\n",
    "if yesno:\n",
    "    len(nsc)\n",
    "    nsc_unduplicated = nsc.drop_duplicates()\n",
    "    len(nsc_unduplicated)\n",
    "    nsc_unduplicated.to_csv('nsc_unduplicated.csv')"
   ]
  },
  {
   "cell_type": "code",
   "execution_count": 368,
   "metadata": {},
   "outputs": [],
   "source": [
    "qlik = pd.read_excel('Qlik Ugrad Admissions Data.xlsx',nrows=30000)\n"
   ]
  },
  {
   "cell_type": "code",
   "execution_count": 369,
   "metadata": {},
   "outputs": [
    {
     "data": {
      "text/plain": [
       "1063"
      ]
     },
     "execution_count": 369,
     "metadata": {},
     "output_type": "execute_result"
    }
   ],
   "source": [
    "len(qlik['Student System ID'].unique())"
   ]
  },
  {
   "cell_type": "code",
   "execution_count": 361,
   "metadata": {},
   "outputs": [
    {
     "data": {
      "text/plain": [
       "array(['SAT I', 'SAT II', 'ACT', 'TOEFL', 'AP', 'IB', '-'], dtype=object)"
      ]
     },
     "execution_count": 361,
     "metadata": {},
     "output_type": "execute_result"
    }
   ],
   "source": [
    "qlik['Test ID'].unique()"
   ]
  },
  {
   "cell_type": "code",
   "execution_count": 362,
   "metadata": {},
   "outputs": [
    {
     "data": {
      "text/plain": [
       "array(['ES', 'M1', 'MATH', 'MC', 'VERB', 'WR', '1600', '2400', 'COMP',\n",
       "       'ENGL', 'EW', 'READ', 'SCIRE', 'COMPI', 'LISCI', 'MTHS', 'READI',\n",
       "       'SP', 'SPKI', 'SPNA2', 'UH', 'WRITI', 'MB', 'LR', 'MAB', 'WH',\n",
       "       'MBC', 'MSS', 'BY', 'CH', 'M2', '-', 'SPNB', 'ENGA1', 'HIST', 'LT',\n",
       "       'PH', 'EB', 'FR', 'CHEMY', 'SL', 'KL', 'CL', 'FL', 'GM', 'ECON',\n",
       "       'FRNB', 'BIOLG', 'GL', 'MATHM', 'JL'], dtype=object)"
      ]
     },
     "execution_count": 362,
     "metadata": {},
     "output_type": "execute_result"
    }
   ],
   "source": [
    "qlik['Test Component'].unique()"
   ]
  },
  {
   "cell_type": "code",
   "execution_count": null,
   "metadata": {},
   "outputs": [],
   "source": [
    "## Filter to reduce the number of tests per student\n",
    "\n",
    "# Filter out Tests for only SAT I, ACT, or blanks\n",
    "qlik = qlik[qlik['Test ID'].isin(['SAT I', 'ACT','-'])]\n",
    "# Filter out SAT/ACT components to only \n",
    "    # SAT = comp, read/write, or math\n",
    "    # ACT = comp, math, or english\n",
    "qlik = qlik[qlik['Test Component'].isin(['COMP', 'READ', 'ENGL', 'MATH','-'])]\n",
    "    # This doesn't reduce the number of unique students, just the number of rows per student"
   ]
  },
  {
   "cell_type": "code",
   "execution_count": 371,
   "metadata": {},
   "outputs": [
    {
     "data": {
      "text/plain": [
       "1060"
      ]
     },
     "execution_count": 371,
     "metadata": {},
     "output_type": "execute_result"
    }
   ],
   "source": [
    "len(qlik['Student System ID'].unique())"
   ]
  },
  {
   "cell_type": "markdown",
   "metadata": {},
   "source": [
    "The following code converts long to wide format for some of variables (Subject Area Interest Desc and Test Scores).\n",
    "For example, many of the students had 2 subject Area Interest Desc. There would be 2 rows for the student with all the same data except the 2 intererests. This code adds a second column for the interest name and condenses the two record rows down to one."
   ]
  },
  {
   "cell_type": "code",
   "execution_count": 365,
   "metadata": {},
   "outputs": [],
   "source": [
    "## 1: Subject Area Interest Desc\n",
    "# List of columns to exclude from grouping\n",
    "exclude_cols = ['Subject Area Interest Desc']\n",
    "# Determine the columns to group by (all except the excluded ones)\n",
    "groupby_cols = [col for col in qlik.columns if col not in exclude_cols]\n",
    "# Assign Program_Number based on these grouped columns\n",
    "qlik['Program_Number_counts'] = qlik.groupby(groupby_cols).cumcount() + 1\n",
    "\n",
    "# Pivot to wide format\n",
    "qlik_wide = qlik.pivot(index=groupby_cols, columns='Program_Number_counts', values='Subject Area Interest Desc')\n",
    "\n",
    "# Rename columns dynamically\n",
    "qlik_wide.columns = [f'Subject Area Interest Desc {col}' for col in qlik_wide.columns]\n",
    "\n",
    "# Reset index to bring all other data back as columns\n",
    "qlik_wide = qlik_wide.reset_index()\n"
   ]
  },
  {
   "cell_type": "code",
   "execution_count": 366,
   "metadata": {},
   "outputs": [],
   "source": [
    "## 2: Test Scores\n",
    "# Ensure 'Score' is numeric\n",
    "qlik_wide['Score'] = pd.to_numeric(qlik_wide['Score'], errors='coerce')  # Converts non-numeric to NaN\n",
    "\n",
    "# # Combine Test ID and Test Component into a new column 'Test_Combination'\n",
    "qlik_wide['Test_Combination'] = qlik_wide['Test ID'] + ' ' + qlik_wide['Test Component']\n",
    "\n",
    "# Use pivot_table to handle duplicates\n",
    "qlik_test_scores = qlik_wide.pivot_table(\n",
    "    index='Student System ID', \n",
    "    columns='Test_Combination', \n",
    "    values='Score', \n",
    "    aggfunc='mean',  # or 'first', 'sum', etc.\n",
    "    dropna = False\n",
    ")\n",
    "\n",
    "# Reset index to make Student System ID a column again\n",
    "# This is now a table (df) with one row per student, and their test scores as columns\n",
    "qlik_test_scores.reset_index(inplace=True)\n",
    "\n",
    "## Drop duplicate rows of a student that were due to multiple test scores\n",
    "qlik_wide.drop('Test_Combination', axis=1,inplace=True)\n",
    "exclude_cols = ['Test ID', 'Test Component','Score']\n",
    "columns_to_check = [col for col in qlik_wide.columns if col not in exclude_cols]\n",
    "# Drop duplicates, keeping the first occurrence\n",
    "qlik_wide_no_duplicates = qlik_wide.drop_duplicates(subset=columns_to_check, keep='first')\n",
    "# Optionally, reset the index if needed\n",
    "qlik_wide_no_duplicates.reset_index(drop=True, inplace=True)\n",
    "qlike_wide_no_duplicates2=qlik_wide_no_duplicates.drop(['Test ID', 'Test Component','Score'], axis=1)\n",
    "qlik_final= pd.merge(qlike_wide_no_duplicates2, qlik_test_scores, on='Student System ID', how='left')"
   ]
  },
  {
   "cell_type": "markdown",
   "metadata": {},
   "source": [
    "Remove duplicate rows due to multiple class ranks, Y and N being listed as Offered in Waitlist Flag or Rodman, Echols, Jefferson, or College Science scholar flags"
   ]
  },
  {
   "cell_type": "code",
   "execution_count": 367,
   "metadata": {},
   "outputs": [],
   "source": [
    "qlik_final.sort_values(['Student System ID','Class Rank','Offered Waitlist Flag'], inplace=True)\n",
    "exclude_cols = ['Class Rank','Percentile Rank','Offered Waitlist Flag']\n",
    "columns_to_check = [col for col in qlik_final.columns if col not in exclude_cols and 'scholar' not in col.lower()]\n",
    "qlik_final=qlik_final.drop_duplicates(subset=columns_to_check, keep='first')"
   ]
  }
 ],
 "metadata": {
  "kernelspec": {
   "display_name": "Python 3",
   "language": "python",
   "name": "python3"
  },
  "language_info": {
   "codemirror_mode": {
    "name": "ipython",
    "version": 3
   },
   "file_extension": ".py",
   "mimetype": "text/x-python",
   "name": "python",
   "nbconvert_exporter": "python",
   "pygments_lexer": "ipython3",
   "version": "3.10.0"
  }
 },
 "nbformat": 4,
 "nbformat_minor": 2
}
