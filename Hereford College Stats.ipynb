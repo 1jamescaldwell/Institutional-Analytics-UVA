{
 "cells": [
  {
   "cell_type": "markdown",
   "id": "68c6ea1d",
   "metadata": {},
   "source": [
    "James Caldwell <br>\n",
    "5/6/25 <br>\n",
    "Data Request 604 <br>\n",
    "\n",
    "This scrip imports a dataset of studetns in the Hereford College. It then calculates the percentage and counts of the students by Race, First generation status, academic year, and low income status. It also determines the number of students that were on the roster but not found in the current academic year."
   ]
  },
  {
   "cell_type": "code",
   "execution_count": 3,
   "id": "c53d6826",
   "metadata": {},
   "outputs": [],
   "source": [
    "import pandas as pd\n",
    "import numpy as np\n",
    "import os"
   ]
  },
  {
   "cell_type": "code",
   "execution_count": 4,
   "id": "861506ad",
   "metadata": {},
   "outputs": [],
   "source": [
    "df = pd.read_excel('Hereford College 2024-2025.xlsx', sheet_name='Raw Data')\n",
    "\n",
    "qlik_emails = df['Email Address UVA']\n",
    "roster_list = pd.read_excel('Hereford College 2024-2025.xlsx', sheet_name='Hereford College 2024-2025 rost')\n",
    "missing = [email for email in roster_list['Email Address UVA'].to_list() if email not in qlik_emails.to_list()]\n",
    "\n",
    "# for email in missing:\n",
    "    # print(email + ',')\n"
   ]
  },
  {
   "cell_type": "code",
   "execution_count": 47,
   "id": "7664b729",
   "metadata": {},
   "outputs": [],
   "source": [
    "df['Academic Year'] = df['Student Group Academic Year'].map({'First-Year':1, \n",
    "                                        'Second-Year':2,\n",
    "                                        'Third-Year':3,\n",
    "                                        'Fourth-Year':4})"
   ]
  },
  {
   "cell_type": "code",
   "execution_count": 48,
   "id": "5cc00270",
   "metadata": {},
   "outputs": [],
   "source": [
    "df.sort_values(by=['Email Address UVA','Academic Year'], ascending=True, inplace=True)"
   ]
  },
  {
   "cell_type": "code",
   "execution_count": 49,
   "id": "2fdf7c25",
   "metadata": {},
   "outputs": [],
   "source": [
    "df.drop_duplicates(subset=['Email Address UVA'], keep='last', inplace=True)"
   ]
  },
  {
   "cell_type": "code",
   "execution_count": 50,
   "id": "1cb7239e",
   "metadata": {},
   "outputs": [],
   "source": [
    "df.drop(columns=['Email Address UVA'], inplace=True)"
   ]
  },
  {
   "cell_type": "code",
   "execution_count": 51,
   "id": "2471299d",
   "metadata": {},
   "outputs": [
    {
     "name": "stdout",
     "output_type": "stream",
     "text": [
      "Column: IPEDS Race\n",
      "                                  Count  Percent\n",
      "IPEDS Race                                      \n",
      "White                                64    31.84\n",
      "Asian                                40    19.90\n",
      "Black or African American            35    17.41\n",
      "Non-Resident Alien                   22    10.95\n",
      "Hispanic                             21    10.45\n",
      "Multi-Race                           12     5.97\n",
      "Race and Ethnicity Unknown            6     2.99\n",
      "American Indian or Alaska Native      1     0.50\n",
      "----------------------------------------\n",
      "Column: First Generation\n",
      "                  Count  Percent\n",
      "First Generation                \n",
      "Other               141    70.15\n",
      "First Generation     60    29.85\n",
      "----------------------------------------\n",
      "Column: Reported Low Income Flag\n",
      "                          Count  Percent\n",
      "Reported Low Income Flag                \n",
      "Missing Data                 97    48.26\n",
      "Not Low Income               65    32.34\n",
      "Low Income                   39    19.40\n",
      "----------------------------------------\n",
      "Column: Student Group Academic Year\n",
      "                             Count  Percent\n",
      "Student Group Academic Year                \n",
      "Fourth-Year                     86    42.79\n",
      "Third-Year                      64    31.84\n",
      "Second-Year                     47    23.38\n",
      "-                                3     1.49\n",
      "First-Year                       1     0.50\n",
      "----------------------------------------\n",
      "Column: Academic Year\n",
      "               Count  Percent\n",
      "Academic Year                \n",
      "4.0               86    42.79\n",
      "3.0               64    31.84\n",
      "2.0               47    23.38\n",
      "NaN                3     1.49\n",
      "1.0                1     0.50\n",
      "----------------------------------------\n"
     ]
    }
   ],
   "source": [
    "def describe_with_counts(df):\n",
    "    result = {}\n",
    "    for col in df.columns:\n",
    "        counts = df[col].value_counts(dropna=False)\n",
    "        percents = df[col].value_counts(normalize=True, dropna=False) * 100\n",
    "        result[col] = pd.DataFrame({\n",
    "            'Count': counts,\n",
    "            'Percent': percents.round(2)\n",
    "        })\n",
    "    return result\n",
    "\n",
    "summaries = describe_with_counts(df)\n",
    "for col, summary in summaries.items():\n",
    "    print(f\"Column: {col}\")\n",
    "    print(summary)\n",
    "    print(\"-\" * 40)\n",
    "\n",
    "# Save to Excel\n",
    "with pd.ExcelWriter('column_summaries.xlsx') as writer:\n",
    "    for col, summary in summaries.items():\n",
    "        # Sheet names can't be longer than 31 characters\n",
    "        sheet_name = str(col)[:31]\n",
    "        summary.to_excel(writer, sheet_name=sheet_name)"
   ]
  },
  {
   "cell_type": "code",
   "execution_count": null,
   "id": "a397ed88",
   "metadata": {},
   "outputs": [],
   "source": []
  }
 ],
 "metadata": {
  "kernelspec": {
   "display_name": "Python 3",
   "language": "python",
   "name": "python3"
  },
  "language_info": {
   "codemirror_mode": {
    "name": "ipython",
    "version": 3
   },
   "file_extension": ".py",
   "mimetype": "text/x-python",
   "name": "python",
   "nbconvert_exporter": "python",
   "pygments_lexer": "ipython3",
   "version": "3.10.0"
  }
 },
 "nbformat": 4,
 "nbformat_minor": 5
}
