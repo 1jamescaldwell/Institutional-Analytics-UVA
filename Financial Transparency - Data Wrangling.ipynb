{
 "cells": [
  {
   "cell_type": "markdown",
   "metadata": {},
   "source": [
    "James Caldwell\n",
    "UVA IRA\n",
    "10/30/2024"
   ]
  },
  {
   "cell_type": "code",
   "execution_count": null,
   "metadata": {},
   "outputs": [],
   "source": [
    "%reset -f\n",
    "\n",
    "import pandas as pd\n",
    "import os\n",
    "\n",
    "# Import excel files\n",
    "\n",
    "# Set the working directory\n",
    "os.chdir(r'\\\\garnet.storage.virginia.edu\\hsz-finadmin\\Custom\\SFS_FVT-GE-Reporting\\2024\\Program Level Report')\n",
    "program_list_data = pd.read_excel('All Data (CIP Codes, Licensure, Accreditation).xlsx',sheet_name='NSC FaSp 22-23, FaSp23-24')\n",
    "accreditation_data = pd.read_excel('All Data (CIP Codes, Licensure, Accreditation).xlsx',sheet_name='Accreditation')\n",
    "licensure_data = pd.read_excel('All Data (CIP Codes, Licensure, Accreditation).xlsx',sheet_name='Licensure')\n",
    "\n",
    "accreditation_data.rename(columns={'Accrediting Organization': 'Accrediting Agency Name'}, inplace=True)\n",
    "program_list_data.rename(columns={'Credential': 'Credential Level'}, inplace=True)\n",
    "program_list_data = program_list_data.iloc[1:].reset_index(drop=True) # drop empty first row\n"
   ]
  },
  {
   "cell_type": "code",
   "execution_count": 28,
   "metadata": {},
   "outputs": [],
   "source": [
    "# Merge CIP, Program Name, accreditation\n",
    "left = program_list_data[['NCES_CIP_Code_for_Major_1','Major_Course_of_Study_1','Credential Level']]\n",
    "right = accreditation_data[['Accrediting Agency Name','Best guess CIP (Added manually from NSCFaSp 22-23, FaSp23-24)']]\n",
    "merged = pd.merge(left, right, left_on=\"NCES_CIP_Code_for_Major_1\", right_on='Best guess CIP (Added manually from NSCFaSp 22-23, FaSp23-24)',  how=\"left\")\n",
    "merged = merged.drop(columns='Best guess CIP (Added manually from NSCFaSp 22-23, FaSp23-24)')\n",
    "\n",
    "# Create Y or N for accredited indicator\n",
    "merged['Programmatically Accredited Indicator'] = ['Y' if pd.notna(value) else 'N' for value in merged['Accrediting Agency Name']]\n",
    "\n",
    "# Merge CIP, licensure\n",
    "right2 = licensure_data[['Program CIP Code','Meets State Requirements']]\n",
    "merged = pd.merge(merged, right2, left_on=\"NCES_CIP_Code_for_Major_1\", right_on='Program CIP Code',  how=\"left\")\n",
    "\n",
    "\n",
    "# Add main campus state\n",
    "merged['State of Main Campus'] = 'Virginia'\n",
    "\n",
    "# Add licensure status\n",
    "merged['Program Prepares Students for Licensure in State of Main Campus'] = ['Y' if (value=='Meets') else 'N' for value in merged['Meets State Requirements']]\n",
    "\n",
    "merged['Gainful Employment Flag'] = 'N'\n",
    "\n",
    "merged = merged.drop(columns=['Program CIP Code','Meets State Requirements'])"
   ]
  },
  {
   "cell_type": "code",
   "execution_count": 29,
   "metadata": {},
   "outputs": [],
   "source": [
    "\n",
    "merged.to_excel('UVA Program Report 24.xlsx', index=False)\n",
    "\n",
    "\n",
    "\n",
    "\n"
   ]
  },
  {
   "cell_type": "markdown",
   "metadata": {},
   "source": []
  }
 ],
 "metadata": {
  "kernelspec": {
   "display_name": "Python 3",
   "language": "python",
   "name": "python3"
  },
  "language_info": {
   "codemirror_mode": {
    "name": "ipython",
    "version": 3
   },
   "file_extension": ".py",
   "mimetype": "text/x-python",
   "name": "python",
   "nbconvert_exporter": "python",
   "pygments_lexer": "ipython3",
   "version": "3.10.0"
  }
 },
 "nbformat": 4,
 "nbformat_minor": 2
}
