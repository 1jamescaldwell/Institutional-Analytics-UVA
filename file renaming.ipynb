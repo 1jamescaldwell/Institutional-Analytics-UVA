{
 "cells": [
  {
   "cell_type": "markdown",
   "metadata": {},
   "source": [
    "James Caldwell <br>\n",
    "2/20/25 UVA <br>\n",
    "\n",
    "I had to download and rename 100+ files in groups of 7. I downloaded them in a specific order then wrote this program to automatically rename them based on the order they were downloaded in."
   ]
  },
  {
   "cell_type": "code",
   "execution_count": null,
   "metadata": {},
   "outputs": [
    {
     "name": "stdout",
     "output_type": "stream",
     "text": [
      "Renamed '80ef8624-41f3-43ed-b05d-ed3e82d18d20.xlsx: 2025-02-20 11:09:32' to 'counts.xlsx'\n",
      "Renamed '1e4c83e4-f045-4274-85db-22f5ac03fbcf.xlsx: 2025-02-20 11:09:35' to 'female.xlsx'\n",
      "Renamed '4ce198aa-9f7b-4bfc-8b6a-3d24ffc101f3.xlsx: 2025-02-20 11:09:40' to 'international.xlsx'\n",
      "Renamed 'd919ea3e-873e-4279-9a31-42b183fc3b2f.xlsx: 2025-02-20 11:09:44' to 'minority.xlsx'\n",
      "Renamed '6026fb64-a190-4bf4-a489-b365180f1a11.xlsx: 2025-02-20 11:09:49' to 'first generation.xlsx'\n",
      "Renamed 'a837f0e2-19d4-4252-9aaa-056b79561a83.xlsx: 2025-02-20 11:09:52' to 'transfer.xlsx'\n",
      "Renamed '4282644c-0a71-42f6-82ed-a0f451ed4cae.xlsx: 2025-02-20 11:09:57' to 'low income.xlsx'\n"
     ]
    }
   ],
   "source": [
    "import os\n",
    "from datetime import datetime\n",
    "\n",
    "cwd = r'\\filelocation' # Change this depending on the file location\n",
    "new_names = ['counts', 'female', 'international','minority','first generation', 'transfer','low income']\n",
    "\n",
    "# Get list of files with their creation times\n",
    "files = [(file, os.path.getctime(os.path.join(cwd, file))) for file in os.listdir(cwd)]\n",
    "\n",
    "# Sort files by creation time\n",
    "files.sort(key=lambda x: x[1])\n",
    "\n",
    "# Rename files based on sorted order\n",
    "for index, (file, ctime) in enumerate(files):\n",
    "    if index < len(new_names):\n",
    "        old_path = os.path.join(cwd, file)\n",
    "        new_path = os.path.join(cwd, f\"{new_names[index]}{os.path.splitext(file)[1]}\")\n",
    "        os.rename(old_path, new_path)\n",
    "        print(f\"Renamed '{file}: {datetime.fromtimestamp(ctime).strftime('%Y-%m-%d %H:%M:%S')}' to '{new_names[index]}{os.path.splitext(file)[1]}'\")\n",
    "\n",
    "\n",
    "\n"
   ]
  }
 ],
 "metadata": {
  "kernelspec": {
   "display_name": "Python 3",
   "language": "python",
   "name": "python3"
  },
  "language_info": {
   "codemirror_mode": {
    "name": "ipython",
    "version": 3
   },
   "file_extension": ".py",
   "mimetype": "text/x-python",
   "name": "python",
   "nbconvert_exporter": "python",
   "pygments_lexer": "ipython3",
   "version": "3.10.0"
  }
 },
 "nbformat": 4,
 "nbformat_minor": 2
}
