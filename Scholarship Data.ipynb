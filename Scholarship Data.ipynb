{
 "cells": [
  {
   "cell_type": "code",
   "execution_count": 20,
   "metadata": {},
   "outputs": [],
   "source": [
    "# Data Request 559\n",
    "# This data was used to inform scholarship decisions for future UVA Students\n",
    "    # Also spent time investigating the data integrity of scholarhip data to student financial services \n",
    "\n",
    "import pandas as pd\n",
    "\n",
    "qlik = pd.read_excel('18-25 scholarships 2.xlsx',sheet_name='MyWorkSheet-1')\n",
    "sfs = pd.read_excel('Match - 2018-2024 Scholarships.xlsx',sheet_name='SFS Data')"
   ]
  },
  {
   "cell_type": "code",
   "execution_count": 21,
   "metadata": {},
   "outputs": [],
   "source": [
    "sfs = sfs[sfs['Aid Yr']>2017]"
   ]
  },
  {
   "cell_type": "code",
   "execution_count": null,
   "metadata": {},
   "outputs": [],
   "source": [
    "sfs['missing'] = sfs['ID'].isin(qlik['Student System ID'])\n",
    "    # True if sfs ID is in qlik ID\n",
    "    # False if sfs ID is not in qlik ID\n",
    "\n",
    "missing = sfs[sfs['missing'] == False]"
   ]
  },
  {
   "cell_type": "code",
   "execution_count": null,
   "metadata": {},
   "outputs": [],
   "source": [
    "# Merge qlik with sfs to identify matches\n",
    "merged = sfs.merge(qlik, how='left', \n",
    "                    right_on=['Student System ID', 'Aid Year', 'Item Type'],\n",
    "                    left_on=['ID', 'Aid Yr', 'Item Type'], \n",
    "                    indicator=True)\n"
   ]
  },
  {
   "cell_type": "code",
   "execution_count": 27,
   "metadata": {},
   "outputs": [],
   "source": [
    "missing2 = merged[merged['_merge']=='left_only']"
   ]
  }
 ],
 "metadata": {
  "kernelspec": {
   "display_name": "Python 3",
   "language": "python",
   "name": "python3"
  },
  "language_info": {
   "codemirror_mode": {
    "name": "ipython",
    "version": 3
   },
   "file_extension": ".py",
   "mimetype": "text/x-python",
   "name": "python",
   "nbconvert_exporter": "python",
   "pygments_lexer": "ipython3",
   "version": "3.10.0"
  }
 },
 "nbformat": 4,
 "nbformat_minor": 2
}
