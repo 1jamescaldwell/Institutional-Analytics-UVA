{
 "cells": [
  {
   "cell_type": "markdown",
   "id": "dc28ec52",
   "metadata": {},
   "source": [
    "James Caldwell <br>\n",
    "9/11/25 <br>\n"
   ]
  },
  {
   "cell_type": "code",
   "execution_count": 2,
   "id": "0c0086b4",
   "metadata": {},
   "outputs": [],
   "source": [
    "import pandas as pd\n",
    "import numpy as np\n",
    "\n",
    "# snapshots = pd.read_csv('')"
   ]
  },
  {
   "cell_type": "code",
   "execution_count": 2,
   "id": "a88c1407",
   "metadata": {},
   "outputs": [],
   "source": [
    "snapshots_backup = snapshots.copy()"
   ]
  },
  {
   "cell_type": "code",
   "execution_count": null,
   "id": "963cab2f",
   "metadata": {},
   "outputs": [],
   "source": []
  },
  {
   "cell_type": "code",
   "execution_count": 29,
   "id": "308520aa",
   "metadata": {},
   "outputs": [
    {
     "name": "stdout",
     "output_type": "stream",
     "text": [
      "['Student_System_ID', 'Term', 'Dataset', 'Academic_Career', '%StudentCareerKey', 'Class_Num', 'Class_Dim_ID', 'Academic_Career_Desc', 'Academic_Program', 'Academic_Program_Desc', 'Earn_Credit', 'Enrollment_Add_Date', 'Enrollment_Drop_Date', 'Enrollment_Status_Reason', 'Grade_Category', 'Grade_Points', 'Grading_Basis_Audit', 'Grading_Basis', 'Official_Grade', 'Repeat_Code', 'Repeat_Code_Desc', 'Repeat_Date', 'Session_Code', 'Session_Desc', 'Student_Enrollment_Status', 'Units_Attempted', 'Units_Earned', 'Units_Taken', 'Units_Taken_Academic_Progress', 'Instructor_ID', 'Instructor_Name', 'Course_ID', 'Class_Academic_Career', 'Class_Academic_Career_Desc', 'Class_Academic_Group', 'Class_Academic_Group_Desc', 'Class_Academic_Org', 'Class_Academic_Org_Desc', 'Assoc_Class', 'Catalog_Number', 'Class_Section', 'Comb_Sections_Desc', 'Class_Title', 'Class_Type', 'Class_Component', 'Course_Contact_Hours', 'Course_Count', 'Class_Dt_End', 'Class_Dt_Start', 'Enrollment_Capacity', 'Enrollment_Total', 'Instruction_Mode', 'Instruction_Mode_Desc', 'Mtg_Building_Code_Primary', 'Mtg_Building_Desc_Primary', 'Mtg_Days_Primary', 'Mtg_Room_Primary', 'Mtg_Time_End', 'Mtg_Time_Start', 'Min_Enrollment_Num', 'Subject', 'Subject_Desc', 'Units_Maximum', 'Units_Minimum', 'Units_Academic_Progress', 'HEGIS_Code', 'Class_Campus', 'Class_Campus_Desc', 'SIS_Location', 'SIS_Location_Desc', 'Primary_Instructor_Name', 'Primary_Instructor_ID', 'Instructor_Contact_Hours', 'Academic_Level_Term_Start', 'Academic_Load', 'Total_Passed_For_Progress', 'Admit_Term', 'Admit_Type', 'Visa_Permit_Type', 'First_Generation', 'Academic_Level_Term_End', 'Academic_Level', 'AcadLevelSort', 'Admission_Admit_Term', 'Begin_Term_Academic_Yr', 'FTE', 'On_Off_Grounds_Filter', 'Study_Agreement', 'Term_End_Dt', 'Transfer_in_Residence_Terms', 'Withdraw_Cancel', 'Withdraw_Cancel_Reason', 'New_Returning_Transfer_Status', 'Undergrad_Flag', 'Grad_Flag', 'Approved_Academic_Load', 'Term_Active_Flag', 'Degree_Program_Flag', 'Enrolled_For_Credit_Flag', 'Enrolled_FullTime_Flag', 'SFS_Population_Flag', 'Form_of_Study', 'Completion_Term', 'Detached_Study_Flag', 'International_Study_Flag', 'Primary_Academic_Program', 'Primary_Academic_Program_Desc', 'Primary_Acad_Program_School', 'Primary_Degree_Seeking_Filter', 'Primary_Degree_Level', 'Primary_Degree', 'Biomed_Sciences_Flag', 'First_Time_First_Year', 'Undergraduate_Transfer', 'Full_or_Part_Time_Status', 'Primary_Major_Minor_Desc', 'Primary_Major_Collapsed', 'Primary_SCHEV_CIP_Code', 'Primary_SCHEV_CIP_Desc', 'Program_Action_Desc', 'Expected_Graduation_Term', 'Units_Taken_for_Progress', 'Units_Passed_For_Progress', 'Highest_Education_Level', 'Cumulative_GPA', 'Current_GPA', 'Class_Location', 'Race_Ethnic_Origin_Filter', 'Age', 'Birth_Date', 'CLAS_Assoc', 'CLAS_Assoc_Desc', 'Dorm_Address_Facility_Code', 'Dorm_Address_Facility_Name', 'Email_Address_Alternate', 'Email_Address_UVA', 'Ethnic_African_American_Flag', 'Ethnic_Asian_Flag', 'Ethnic_Hawaii_Pacific_Flag', 'Ethnic_Hispanic_Flag', 'Ethnic_Native_American_Flag', 'Ethnic_Not_Specified_Flag', 'Ethnic_White_Flag', 'IPEDS_Race', 'FERPA_Flag', 'Foreign_Citizen_Country_Desc', 'Gender', 'Rodman_Scholar_Flag', 'Rainey_Scholar_Flag', 'Jeff_Scholar_Flag', 'Legacy_Flag', 'Echols_Scholar_Flag', 'Transition_Student_Flag', 'Global_First_Program', 'Global_First_Program_Desc', 'College_Science_Scholar_Flag', 'Arts_Scholar_Flag', 'Geo_Origin_Country', 'Geo_Origin_Country_Desc', 'Geo_Origin_State', 'Geo_Origin_State_Desc', 'Home_Address_1', 'Home_Address_2', 'Home_Address_3', 'Home_Address_4', 'Home_Address_City', 'Home_Address_State', 'Home_Address_Zipcode', 'Home_Address_Country', 'Mailing_Address_1', 'Mailing_Address_2', 'Mailing_Address_3', 'Mailing_Address_4', 'Mailing_Address_City', 'Mailing_Address_State', 'Mailing_Address_Zipcode', 'Mailing_Address_Country', 'Military_Status', 'Primary_Name', 'First_Name', 'Middle_Name', 'Last_Name', 'Student_Academic_Yr', 'US_Citizenship_Status', 'University_ID', 'Veterans_Benefit_Flag', 'Virginia_City_County', 'Virginia_City_County_Code', 'Lives_On_Grounds_Flag', 'Residency', 'Student_Residency', 'URM', 'URM without NH', 'LOCDOMI', 'MAJ_Academic_Plan_1', 'MAJ_Academic_Sub_Plan_1', 'MAJ_Plan_SubPlan_ID_1', 'MAJ_Major_Minor_Desc_1', 'MAJ_Degree_1', 'MAJ_Degree_Level_1', 'MAJ_SCHEV_CIP_1', 'MAJ_CIP_Code_1', 'MAJ_Academic_Plan_School_1', 'MAJ_Academic_Program_1', 'MAJ_Academic_Program_Status_1', 'MAJ_Program_Campus_1', 'MAJ_Expected_Graduation_Term_1', 'MAJ_Degree_Checkout_Stat_1', 'MAJ_Academic_Plan_2', 'MAJ_Academic_Sub_Plan_2', 'MAJ_Plan_SubPlan_ID_2', 'MAJ_Major_Minor_Desc_2', 'MAJ_Degree_2', 'MAJ_Degree_Level_2', 'MAJ_SCHEV_CIP_2', 'MAJ_CIP_Code_2', 'MAJ_Academic_Plan_School_2', 'MAJ_Academic_Program_2', 'MAJ_Academic_Program_Status_2', 'MAJ_Program_Campus_2', 'MAJ_Expected_Graduation_Term_2', 'MAJ_Degree_Checkout_Stat_2', 'MAJ_Academic_Plan_3', 'MAJ_Academic_Sub_Plan_3', 'MAJ_Plan_SubPlan_ID_3', 'MAJ_Major_Minor_Desc_3', 'MAJ_Degree_3', 'MAJ_Degree_Level_3', 'MAJ_SCHEV_CIP_3', 'MAJ_CIP_Code_3', 'MAJ_Academic_Plan_School_3', 'MAJ_Academic_Program_3', 'MAJ_Academic_Program_Status_3', 'MAJ_Program_Campus_3', 'MAJ_Expected_Graduation_Term_3', 'MAJ_Degree_Checkout_Stat_3', 'MAJ_Academic_Plan_4', 'MAJ_Academic_Sub_Plan_4', 'MAJ_Plan_SubPlan_ID_4', 'MAJ_Major_Minor_Desc_4', 'MAJ_Degree_4', 'MAJ_Degree_Level_4', 'MAJ_SCHEV_CIP_4', 'MAJ_CIP_Code_4', 'MAJ_Academic_Plan_School_4', 'MAJ_Academic_Program_4', 'MAJ_Academic_Program_Status_4', 'MAJ_Program_Campus_4', 'MAJ_Expected_Graduation_Term_4', 'MAJ_Degree_Checkout_Stat_4', 'MIN_Academic_Plan_1', 'MIN_Academic_Sub_Plan_1', 'MIN_Plan_SubPlan_ID_1', 'MIN_Major_Minor_Desc_1', 'MIN_Degree_1', 'MIN_Degree_Level_1', 'MIN_SCHEV_CIP_1', 'MIN_CIP_Codes_1', 'MIN_Academic_Plan_School_1', 'MIN_Academic_Program_1', 'MIN_Academic_Program_Status_1', 'MIN_Program_Campus_1', 'MIN_Expected_Graduation_Term_1', 'MIN_Degree_Checkout_Stat_1', 'MIN_Academic_Plan_2', 'MIN_Academic_Sub_Plan_2', 'MIN_Plan_SubPlan_ID_2', 'MIN_Major_Minor_Desc_2', 'MIN_Degree_2', 'MIN_Degree_Level_2', 'MIN_SCHEV_CIP_2', 'MIN_CIP_Codes_2', 'MIN_Academic_Plan_School_2', 'MIN_Academic_Program_2', 'MIN_Academic_Program_Status_2', 'MIN_Program_Campus_2', 'MIN_Expected_Graduation_Term_2', 'MIN_Degree_Checkout_Stat_2', 'MIN_Academic_Plan_3', 'MIN_Academic_Sub_Plan_3', 'MIN_Plan_SubPlan_ID_3', 'MIN_Major_Minor_Desc_3', 'MIN_Degree_3', 'MIN_Degree_Level_3', 'MIN_SCHEV_CIP_3', 'MIN_CIP_Codes_3', 'MIN_Academic_Plan_School_3', 'MIN_Academic_Program_3', 'MIN_Academic_Program_Status_3', 'MIN_Program_Campus_3', 'MIN_Expected_Graduation_Term_3', 'MIN_Degree_Checkout_Stat_3', 'MJ2_Academic_Plan_1', 'MJ2_Academic_Sub_Plan_1', 'MJ2_Plan_SubPlan_ID_1', 'MJ2_Major_Minor_Desc_1', 'MJ2_Degree_1', 'MJ2_Degree_Level_1', 'MJ2_SCHEV_CIP_1', 'MJ2_CIP_Codes_1', 'MJ2_Academic_Plan_School_1', 'MJ2_Academic_Program_1', 'MJ2_Academic_Program_Status_1', 'MJ2_Program_Campus_1', 'MJ2_Expected_Graduation_Term_1', 'MJ2_Degree_Checkout_Stat_1', 'MJ2_Academic_Plan_2', 'MJ2_Academic_Sub_Plan_2', 'MJ2_Plan_SubPlan_ID_2', 'MJ2_Major_Minor_Desc_2', 'MJ2_Degree_2', 'MJ2_Degree_Level_2', 'MJ2_SCHEV_CIP_2', 'MJ2_CIP_Codes_2', 'MJ2_Academic_Plan_School_2', 'MJ2_Academic_Program_2', 'MJ2_Academic_Program_Status_2', 'MJ2_Program_Campus_2', 'MJ2_Expected_Graduation_Term_2', 'MJ2_Degree_Checkout_Stat_2', 'MJ2_Academic_Plan_3', 'MJ2_Academic_Sub_Plan_3', 'MJ2_Plan_SubPlan_ID_3', 'MJ2_Major_Minor_Desc_3', 'MJ2_Degree_3', 'MJ2_Degree_Level_3', 'MJ2_SCHEV_CIP_3', 'MJ2_CIP_Codes_3', 'MJ2_Academic_Plan_School_3', 'MJ2_Academic_Program_3', 'MJ2_Academic_Program_Status_3', 'MJ2_Program_Campus_3', 'MJ2_Expected_Graduation_Term_3', 'MJ2_Degree_Checkout_Stat_3', 'MN2_Academic_Plan_1', 'MN2_Academic_Sub_Plan_1', 'MN2_Plan_SubPlan_ID_1', 'MN2_Major_Minor_Desc_1', 'MN2_Degree_1', 'MN2_Degree_Level_1', 'MN2_SCHEV_CIP_1', 'MN2_CIP_Codes_1', 'MN2_Academic_Plan_School_1', 'MN2_Academic_Program_1', 'MN2_Academic_Program_Status_1', 'MN2_Program_Campus_1', 'MN2_Expected_Graduation_Term_1', 'MN2_Degree_Checkout_Stat_1', 'MN2_Academic_Plan_2', 'MN2_Academic_Sub_Plan_2', 'MN2_Plan_SubPlan_ID_2', 'MN2_Major_Minor_Desc_2', 'MN2_Degree_2', 'MN2_Degree_Level_2', 'MN2_SCHEV_CIP_2', 'MN2_CIP_Codes_2', 'MN2_Academic_Plan_School_2', 'MN2_Academic_Program_2', 'MN2_Academic_Program_Status_2', 'MN2_Program_Campus_2', 'MN2_Expected_Graduation_Term_2', 'MN2_Degree_Checkout_Stat_2', 'MN2_Academic_Plan_3', 'MN2_Academic_Sub_Plan_3', 'MN2_Plan_SubPlan_ID_3', 'MN2_Major_Minor_Desc_3', 'MN2_Degree_3', 'MN2_Degree_Level_3', 'MN2_SCHEV_CIP_3', 'MN2_CIP_Codes_3', 'MN2_Academic_Plan_School_3', 'MN2_Academic_Program_3', 'MN2_Academic_Program_Status_3', 'MN2_Program_Campus_3', 'MN2_Expected_Graduation_Term_3', 'MN2_Degree_Checkout_Stat_3', 'COS_Academic_Plan_1', 'COS_Academic_Sub_Plan_1', 'COS_Plan_SubPlan_ID_1', 'COS_Major_Minor_Desc_1', 'COS_Degree_1', 'COS_Degree_Level_1', 'COS_SCHEV_CIP_1', 'COS_CIP_Codes_1', 'COS_Academic_Plan_School_1', 'COS_Academic_Program_1', 'COS_Academic_Program_Status_1', 'COS_Program_Campus_1', 'COS_Expected_Graduation_Term_1', 'COS_Degree_Checkout_Stat_1', 'COS_Academic_Plan_2', 'COS_Academic_Sub_Plan_2', 'COS_Plan_SubPlan_ID_2', 'COS_Major_Minor_Desc_2', 'COS_Degree_2', 'COS_Degree_Level_2', 'COS_SCHEV_CIP_2', 'COS_CIP_Codes_2', 'COS_Academic_Plan_School_2', 'COS_Academic_Program_2', 'COS_Academic_Program_Status_2', 'COS_Program_Campus_2', 'COS_Expected_Graduation_Term_2', 'COS_Degree_Checkout_Stat_2', 'COS_Academic_Plan_3', 'COS_Academic_Sub_Plan_3', 'COS_Plan_SubPlan_ID_3', 'COS_Major_Minor_Desc_3', 'COS_Degree_3', 'COS_Degree_Level_3', 'COS_SCHEV_CIP_3', 'COS_CIP_Codes_3', 'COS_Academic_Plan_School_3', 'COS_Academic_Program_3', 'COS_Academic_Program_Status_3', 'COS_Program_Campus_3', 'COS_Expected_Graduation_Term_3', 'COS_Degree_Checkout_Stat_3', 'SP_Academic_Plan_1', 'SP_Academic_Sub_Plan_1', 'SP_Plan_SubPlan_ID_1', 'SP_Major_Minor_Desc_1', 'SP_Degree_1', 'SP_Degree_Level_1', 'SP_SCHEV_CIP_1', 'SP_CIP_Codes_1', 'SP_Academic_Plan_School_1', 'SP_Academic_Program_1', 'SP_Academic_Program_Status_1', 'SP_Program_Campus_1', 'SP_Expected_Graduation_Term_1', 'SP_Degree_Checkout_Stat_1', 'SP_Academic_Plan_2', 'SP_Academic_Sub_Plan_2', 'SP_Plan_SubPlan_ID_2', 'SP_Major_Minor_Desc_2', 'SP_Degree_2', 'SP_Degree_Level_2', 'SP_SCHEV_CIP_2', 'SP_CIP_Codes_2', 'SP_Academic_Plan_School_2', 'SP_Academic_Program_2', 'SP_Academic_Program_Status_2', 'SP_Program_Campus_2', 'SP_Expected_Graduation_Term_2', 'SP_Degree_Checkout_Stat_2', 'SP_Academic_Plan_3', 'SP_Academic_Sub_Plan_3', 'SP_Plan_SubPlan_ID_3', 'SP_Major_Minor_Desc_3', 'SP_Degree_3', 'SP_Degree_Level_3', 'SP_SCHEV_CIP_3', 'SP_CIP_Codes_3', 'SP_Academic_Plan_School_3', 'SP_Academic_Program_3', 'SP_Academic_Program_Status_3', 'SP_Program_Campus_3', 'SP_Expected_Graduation_Term_3', 'SP_Degree_Checkout_Stat_3', 'CRT_Academic_Plan_1', 'CRT_Academic_Sub_Plan_1', 'CRT_Plan_SubPlan_ID_1', 'CRT_Major_Minor_Desc_1', 'CRT_Degree_1', 'CRT_Degree_Level_1', 'CRT_SCHEV_CIP_1', 'CRT_CIP_Codes_1', 'CRT_Academic_Plan_School_1', 'CRT_Academic_Program_1', 'CRT_Academic_Program_Status_1', 'CRT_Program_Campus_1', 'CRT_Expected_Graduation_Term_1', 'CRT_Degree_Checkout_Stat_1', 'CRT_Academic_Plan_2', 'CRT_Academic_Sub_Plan_2', 'CRT_Plan_SubPlan_ID_2', 'CRT_Major_Minor_Desc_2', 'CRT_Degree_2', 'CRT_Degree_Level_2', 'CRT_SCHEV_CIP_2', 'CRT_CIP_Codes_2', 'CRT_Academic_Plan_School_2', 'CRT_Academic_Program_2', 'CRT_Academic_Program_Status_2', 'CRT_Program_Campus_2', 'CRT_Expected_Graduation_Term_2', 'CRT_Degree_Checkout_Stat_2', 'CRT_Academic_Plan_3', 'CRT_Academic_Sub_Plan_3', 'CRT_Plan_SubPlan_ID_3', 'CRT_Major_Minor_Desc_3', 'CRT_Degree_3', 'CRT_Degree_Level_3', 'CRT_SCHEV_CIP_3', 'CRT_CIP_Codes_3', 'CRT_Academic_Plan_School_3', 'CRT_Academic_Program_3', 'CRT_Academic_Program_Status_3', 'CRT_Program_Campus_3', 'CRT_Expected_Graduation_Term_3', 'CRT_Degree_Checkout_Stat_3', 'Advisors_ID', 'Advisors_Name', 'Advisors_Email_Address', 'Advisor_Plans_Desc', 'Num_in_Household', 'Poverty_Index_Year', 'Dependency_Status', 'Income', 'Reported_Low_Income_Flag', 'Reported_150_Low_Income_Flag', 'Poverty_Flag', 'Federal_Need', 'Federal_Need_Flag', 'Pell_Recipient_Flag', 'Aid_Status', 'AS_Deans_Student_Group_Desc', 'Student_Group_Academic_Year', 'Core_Scholar_Flag', 'Athlete_Flag', 'NCAA_Eligible', 'Sport', 'Sport_Desc', 'Total_Transferred', 'Units_Transferred', 'Tuition_Residency_Exception', 'Tuition_Residency', 'ZFor Hours', 'On_Campus_Hours', 'Off_Campus_Hours', 'ACT_Math', 'ACT_English', 'ACT_Composite', 'SAT_Verbal', 'SAT_Math', 'SAT Total', 'HS_Career', 'HS_CEEB_Code', 'HS_GPA', 'HS_Grad_Date', 'HS_Degree_Date', 'Undergrad_Overall_GPA', 'Prev_School', 'Prev_School_Desc', 'Prev_School_CEEB_Code', 'Secondary_SCHEV_CIP_Code', 'Secondary_Degree_Level', 'Secondary_Major_Minor_Desc', 'Audit_Only_Flag']\n"
     ]
    }
   ],
   "source": [
    "print(list(snapshots.columns))\n"
   ]
  },
  {
   "cell_type": "code",
   "execution_count": 14,
   "id": "e89b6293",
   "metadata": {},
   "outputs": [
    {
     "data": {
      "text/plain": [
       "['Enrollment_Add_Date',\n",
       " 'Enrollment_Drop_Date',\n",
       " 'Enrollment_Status_Reason',\n",
       " 'Student_Enrollment_Status',\n",
       " 'Enrollment_Capacity',\n",
       " 'Enrollment_Total',\n",
       " 'Min_Enrollment_Num']"
      ]
     },
     "execution_count": 14,
     "metadata": {},
     "output_type": "execute_result"
    }
   ],
   "source": [
    "enrollment_cols = [col for col in snapshots.columns if \"enrollment\" in col.lower()]\n",
    "enrollment_cols\n"
   ]
  },
  {
   "cell_type": "code",
   "execution_count": 58,
   "id": "8bf6d855",
   "metadata": {},
   "outputs": [
    {
     "data": {
      "application/vnd.microsoft.datawrangler.viewer.v0+json": {
       "columns": [
        {
         "name": "Audit_Only_Flag",
         "rawType": "object",
         "type": "string"
        },
        {
         "name": "count",
         "rawType": "int64",
         "type": "integer"
        }
       ],
       "ref": "ddf5e690-96f0-4d3a-8874-9a1c1365fc1e",
       "rows": [
        [
         "N",
         "398492"
        ],
        [
         "Y",
         "81"
        ]
       ],
       "shape": {
        "columns": 1,
        "rows": 2
       }
      },
      "text/plain": [
       "Audit_Only_Flag\n",
       "N    398492\n",
       "Y        81\n",
       "Name: count, dtype: int64"
      ]
     },
     "execution_count": 58,
     "metadata": {},
     "output_type": "execute_result"
    }
   ],
   "source": [
    "# Uncomment to use backup\n",
    "snapshots = snapshots_backup.copy()\n",
    "snapshots[\"Audit_Only_Flag\"] .value_counts()"
   ]
  },
  {
   "cell_type": "markdown",
   "id": "11a2e101",
   "metadata": {},
   "source": [
    "Enrolled for credit\n",
    "No Audit only "
   ]
  },
  {
   "cell_type": "code",
   "execution_count": 1,
   "id": "e6dd077f",
   "metadata": {},
   "outputs": [
    {
     "ename": "NameError",
     "evalue": "name 'snapshots' is not defined",
     "output_type": "error",
     "traceback": [
      "\u001b[1;31m---------------------------------------------------------------------------\u001b[0m",
      "\u001b[1;31mNameError\u001b[0m                                 Traceback (most recent call last)",
      "Cell \u001b[1;32mIn[1], line 4\u001b[0m\n\u001b[0;32m      1\u001b[0m \u001b[38;5;66;03m# ----------------------------\u001b[39;00m\n\u001b[0;32m      2\u001b[0m \u001b[38;5;66;03m# Step 1. Apply population filters\u001b[39;00m\n\u001b[0;32m      3\u001b[0m \u001b[38;5;66;03m# ----------------------------\u001b[39;00m\n\u001b[1;32m----> 4\u001b[0m snapshots \u001b[38;5;241m=\u001b[39m \u001b[43msnapshots\u001b[49m[\n\u001b[0;32m      5\u001b[0m     (\n\u001b[0;32m      6\u001b[0m         (snapshots[\u001b[38;5;124m\"\u001b[39m\u001b[38;5;124mUnits_Taken_for_Progress\u001b[39m\u001b[38;5;124m\"\u001b[39m] \u001b[38;5;241m>\u001b[39m \u001b[38;5;241m0\u001b[39m) \u001b[38;5;241m|\u001b[39m\n\u001b[0;32m      7\u001b[0m         (snapshots[\u001b[38;5;124m\"\u001b[39m\u001b[38;5;124mPrimary_Academic_Program\u001b[39m\u001b[38;5;124m\"\u001b[39m]\u001b[38;5;241m.\u001b[39misin([\u001b[38;5;124m\"\u001b[39m\u001b[38;5;124mMDG\u001b[39m\u001b[38;5;124m\"\u001b[39m, \u001b[38;5;124m\"\u001b[39m\u001b[38;5;124mMDGN\u001b[39m\u001b[38;5;124m\"\u001b[39m])) \u001b[38;5;241m|\u001b[39m\n\u001b[0;32m      8\u001b[0m         (snapshots[\u001b[38;5;124m\"\u001b[39m\u001b[38;5;124mForm_of_Study\u001b[39m\u001b[38;5;124m\"\u001b[39m]\u001b[38;5;241m.\u001b[39misin([\n\u001b[0;32m      9\u001b[0m             \u001b[38;5;124m\"\u001b[39m\u001b[38;5;124mInternational Study - FT\u001b[39m\u001b[38;5;124m\"\u001b[39m, \u001b[38;5;66;03m# 7696 records\u001b[39;00m\n\u001b[0;32m     10\u001b[0m             \u001b[38;5;124m\"\u001b[39m\u001b[38;5;124mInternational Study - PT\u001b[39m\u001b[38;5;124m\"\u001b[39m, \u001b[38;5;66;03m# 0\u001b[39;00m\n\u001b[0;32m     11\u001b[0m             \u001b[38;5;124m\"\u001b[39m\u001b[38;5;124mDomestic Study - FT\u001b[39m\u001b[38;5;124m\"\u001b[39m, \u001b[38;5;66;03m# 0\u001b[39;00m\n\u001b[0;32m     12\u001b[0m             \u001b[38;5;124m\"\u001b[39m\u001b[38;5;124mDomestic Study - PT\u001b[39m\u001b[38;5;124m\"\u001b[39m, \u001b[38;5;66;03m# 0\u001b[39;00m\n\u001b[0;32m     13\u001b[0m             \u001b[38;5;124m\"\u001b[39m\u001b[38;5;124mExchange - Domestic\u001b[39m\u001b[38;5;124m\"\u001b[39m, \u001b[38;5;66;03m# 0\u001b[39;00m\n\u001b[0;32m     14\u001b[0m             \u001b[38;5;124m\"\u001b[39m\u001b[38;5;124mExchange - International\u001b[39m\u001b[38;5;124m\"\u001b[39m \u001b[38;5;66;03m# 488 records\u001b[39;00m\n\u001b[0;32m     15\u001b[0m             \u001b[38;5;66;03m# Affiliated Study 535?\u001b[39;00m\n\u001b[0;32m     16\u001b[0m             \u001b[38;5;66;03m# Detached Study 3?\u001b[39;00m\n\u001b[0;32m     17\u001b[0m         ]))\n\u001b[0;32m     18\u001b[0m     )\n\u001b[0;32m     19\u001b[0m     \u001b[38;5;241m&\u001b[39m (snapshots[\u001b[38;5;124m\"\u001b[39m\u001b[38;5;124mWithdraw_Cancel\u001b[39m\u001b[38;5;124m\"\u001b[39m]\u001b[38;5;241m.\u001b[39misin([\u001b[38;5;124m\"\u001b[39m\u001b[38;5;124m---\u001b[39m\u001b[38;5;124m\"\u001b[39m, \u001b[38;5;124m\"\u001b[39m\u001b[38;5;124mWithdrew\u001b[39m\u001b[38;5;124m\"\u001b[39m]))\n\u001b[0;32m     20\u001b[0m ]\n\u001b[0;32m     22\u001b[0m \u001b[38;5;66;03m# ----------------------------\u001b[39;00m\n\u001b[0;32m     23\u001b[0m \u001b[38;5;66;03m# Step 2. Collapse academic career\u001b[39;00m\n\u001b[0;32m     24\u001b[0m \u001b[38;5;66;03m# ----------------------------\u001b[39;00m\n\u001b[0;32m     25\u001b[0m snapshots\u001b[38;5;241m.\u001b[39mloc[snapshots[\u001b[38;5;124m\"\u001b[39m\u001b[38;5;124mAcademic_Career\u001b[39m\u001b[38;5;124m\"\u001b[39m] \u001b[38;5;241m!=\u001b[39m \u001b[38;5;124m\"\u001b[39m\u001b[38;5;124mUGRD\u001b[39m\u001b[38;5;124m\"\u001b[39m, \u001b[38;5;124m\"\u001b[39m\u001b[38;5;124mAcademic_Career\u001b[39m\u001b[38;5;124m\"\u001b[39m] \u001b[38;5;241m=\u001b[39m \u001b[38;5;124m\"\u001b[39m\u001b[38;5;124mGRAD\u001b[39m\u001b[38;5;124m\"\u001b[39m\n",
      "\u001b[1;31mNameError\u001b[0m: name 'snapshots' is not defined"
     ]
    }
   ],
   "source": [
    "\n",
    "# ----------------------------\n",
    "# Step 1. Apply population filters\n",
    "# ----------------------------\n",
    "snapshots = snapshots[\n",
    "    (\n",
    "        (snapshots[\"Units_Taken_for_Progress\"] > 0) |\n",
    "        (snapshots[\"Primary_Academic_Program\"].isin([\"MDG\", \"MDGN\"])) |\n",
    "        (snapshots[\"Form_of_Study\"].isin([\n",
    "            \"International Study - FT\", # 7696 records\n",
    "            \"International Study - PT\", # 0\n",
    "            \"Domestic Study - FT\", # 0\n",
    "            \"Domestic Study - PT\", # 0\n",
    "            \"Exchange - Domestic\", # 0\n",
    "            \"Exchange - International\" # 488 records\n",
    "            # Affiliated Study 535?\n",
    "            # Detached Study 3?\n",
    "        ]))\n",
    "    )\n",
    "    & (snapshots[\"Withdraw_Cancel\"].isin([\"---\", \"Withdrew\"]))\n",
    "]\n",
    "\n",
    "# ----------------------------\n",
    "# Step 2. Collapse academic career\n",
    "# ----------------------------\n",
    "snapshots.loc[snapshots[\"Academic_Career\"] != \"UGRD\", \"Academic_Career\"] = \"GRAD\"\n",
    "\n",
    "# ----------------------------\n",
    "# Step 3. Assign major info (first non-null plan/major)\n",
    "# ----------------------------\n",
    "def pick_first_major(row):\n",
    "    prefixes = [\n",
    "        (\"MAJ\", 1),\n",
    "        (\"CRT\", 1),\n",
    "        (\"COS\", 1),\n",
    "        (\"SP\", 1),\n",
    "        # PRP not in dataset, skip\n",
    "        (\"MIN\", 1),\n",
    "        (\"MJ2\", 1)\n",
    "    ]\n",
    "    for prefix, idx in prefixes:\n",
    "        desc_col = f\"{prefix}_Major_Minor_Desc_{idx}\"\n",
    "        deglev_col = f\"{prefix}_Degree_Level_{idx}\"\n",
    "        degree_col = f\"{prefix}_Degree_{idx}\"\n",
    "        cip_col = f\"{prefix}_SCHEV_CIP_{idx}\"\n",
    "        if pd.notna(row.get(desc_col, None)) and str(row[desc_col]).strip() != \"\":\n",
    "            return row[desc_col], row[deglev_col], row[degree_col], row[cip_col]\n",
    "    return None, None, None, None\n",
    "\n",
    "snapshots[[\"majdesc\", \"majdeglev\", \"majdegree\", \"majschevcip\"]] = snapshots.apply(\n",
    "    pick_first_major, axis=1, result_type=\"expand\"\n",
    ")\n",
    "\n",
    "# ----------------------------\n",
    "# Step 4. Degree-seeking classification\n",
    "# ----------------------------\n",
    "# deg_seeking = [\"BACH\", \"DOCT\", \"EDS\", \"JD\", \"MAST\", \"MD\",\"CERT\"]\n",
    "deg_seeking = ['BA', 'BACH', 'CE', 'CERT', 'CO', 'COS', 'DO', 'DOCT', 'ED', 'EDS', 'JD', 'MA', 'MAST', 'MD']\n",
    "non_deg = [\"PND\", \"SP\", \"COS\", \"PRP\"]\n",
    "\n",
    "snapshots[\"degreeseekingstatus\"] = snapshots[\"majdeglev\"].map(\n",
    "    lambda x: \"Degree Seeking\" if x in deg_seeking else\n",
    "              \"Non Degree Seeking\" if x in non_deg else None\n",
    ")\n",
    "\n",
    "# Special override for CERT with CIP ≠ 92.0005 or 92.0006\n",
    "mask = (snapshots[\"majdeglev\"] == \"CERT\") & (~snapshots[\"majschevcip\"].isin([\"92.0005\", \"92.0006\"]))\n",
    "snapshots.loc[mask, \"degreeseekingstatus\"] = \"Degree Seeking\"\n",
    "\n",
    "# ----------------------------\n",
    "# Step 5. Keep only degree-seeking \n",
    "# ----------------------------\n",
    "snapshots = snapshots[snapshots[\"degreeseekingstatus\"] == \"Degree Seeking\"]\n",
    "\n",
    "# Step 5b exclude auditors\n",
    "snapshots = snapshots[snapshots[\"Audit_Only_Flag\"] == \"N\"]\n",
    "\n",
    "# ----------------------------\n",
    "# Step 6. Deduplicate to first record per student per career\n",
    "# ----------------------------\n",
    "snapshots = snapshots.sort_values([\"Student_System_ID\", \"Academic_Career\"])\n",
    "snapshots = snapshots.drop_duplicates(subset=[\"Student_System_ID\", \"Academic_Career\"], keep=\"first\")\n",
    "\n",
    "# This did nothing\n",
    "HS_students = pd.read_excel(r\"V:\\FISAP\\hs_students_2425.xlsx\")\n",
    "snapshots = snapshots[~snapshots[\"Student_System_ID\"].isin(HS_students[\"Student_System_ID\"])]\n",
    "# ----------------------------\n",
    "# Step 7. Summary counts\n",
    "# ----------------------------\n",
    "summary = snapshots[\"Academic_Career\"].value_counts().reset_index()\n",
    "summary.columns = [\"Academic_Career\", \"Number\"]\n",
    "\n",
    "print(\"University of Virginia\")\n",
    "print(\"FISAP - Unduplicated Headcount, 2024-2025\")\n",
    "print(summary)\n"
   ]
  }
 ],
 "metadata": {
  "kernelspec": {
   "display_name": "Python 3",
   "language": "python",
   "name": "python3"
  },
  "language_info": {
   "codemirror_mode": {
    "name": "ipython",
    "version": 3
   },
   "file_extension": ".py",
   "mimetype": "text/x-python",
   "name": "python",
   "nbconvert_exporter": "python",
   "pygments_lexer": "ipython3",
   "version": "3.10.0"
  }
 },
 "nbformat": 4,
 "nbformat_minor": 5
}
