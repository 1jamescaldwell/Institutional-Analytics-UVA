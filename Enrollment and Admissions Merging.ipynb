{
 "cells": [
  {
   "cell_type": "markdown",
   "id": "7b70d700",
   "metadata": {},
   "source": [
    "James Caldwell <br>\n",
    "UVA IRA <br>\n",
    "8/13/25 <br>\n",
    "Merging IRA Enrollment Data with IRA Undergrad Admissions Data for Data Request 618."
   ]
  },
  {
   "cell_type": "markdown",
   "id": "65db3113",
   "metadata": {},
   "source": [
    "Enrollment is all students for Fall 2025\n",
    "Admission is all students that went to the specified High Schools for the data request (current and former students)"
   ]
  },
  {
   "cell_type": "code",
   "execution_count": 17,
   "id": "4d44f5d7",
   "metadata": {},
   "outputs": [
    {
     "name": "stdout",
     "output_type": "stream",
     "text": [
      "0\n"
     ]
    }
   ],
   "source": [
    "import numpy as np\n",
    "import pandas as pd\n",
    "\n",
    "enrollment = pd.read_excel('Enrollment.xlsx') # Has duplicates, for students that have multiple expected graduation terms\n",
    "admission = pd.read_excel('Ugrad Admission.xlsx') # Has no duplicates\n",
    "\n",
    "num_duplicates = enrollment[['Student System ID', 'Expected Graduation Term']].duplicated().sum()\n",
    "print(num_duplicates)\n",
    "\n"
   ]
  },
  {
   "cell_type": "markdown",
   "id": "6d4cd67f",
   "metadata": {},
   "source": [
    "All duplicates in enrollment due to multiple expected grad dates <br>\n",
    "I will sort and only keep the latest one."
   ]
  },
  {
   "cell_type": "code",
   "execution_count": 18,
   "id": "e8a0aa6e",
   "metadata": {},
   "outputs": [],
   "source": [
    "enrollment_sorted = enrollment.sort_values(by=['Student System ID', 'Expected Graduation Term'], ascending=[True, False])\n",
    "enrollment_deduped = enrollment_sorted.drop_duplicates(subset=['Student System ID'], keep='first')"
   ]
  },
  {
   "cell_type": "markdown",
   "id": "78cbfc65",
   "metadata": {},
   "source": [
    "Check de-duplication worked correctly"
   ]
  },
  {
   "cell_type": "code",
   "execution_count": 19,
   "id": "3c5772f1",
   "metadata": {},
   "outputs": [
    {
     "data": {
      "application/vnd.microsoft.datawrangler.viewer.v0+json": {
       "columns": [
        {
         "name": "index",
         "rawType": "int64",
         "type": "integer"
        },
        {
         "name": "Student System ID",
         "rawType": "int64",
         "type": "integer"
        },
        {
         "name": "Last Name",
         "rawType": "object",
         "type": "string"
        },
        {
         "name": "First Name",
         "rawType": "object",
         "type": "string"
        },
        {
         "name": "Email Address UVA",
         "rawType": "object",
         "type": "string"
        },
        {
         "name": "Primary Acad Program School",
         "rawType": "object",
         "type": "string"
        },
        {
         "name": "Academic Career",
         "rawType": "object",
         "type": "string"
        },
        {
         "name": "Expected Graduation Term",
         "rawType": "object",
         "type": "string"
        }
       ],
       "ref": "2f6f3522-2286-4d86-bd84-070639ebcb76",
       "rows": [],
       "shape": {
        "columns": 7,
        "rows": 0
       }
      },
      "text/html": [
       "<div>\n",
       "<style scoped>\n",
       "    .dataframe tbody tr th:only-of-type {\n",
       "        vertical-align: middle;\n",
       "    }\n",
       "\n",
       "    .dataframe tbody tr th {\n",
       "        vertical-align: top;\n",
       "    }\n",
       "\n",
       "    .dataframe thead th {\n",
       "        text-align: right;\n",
       "    }\n",
       "</style>\n",
       "<table border=\"1\" class=\"dataframe\">\n",
       "  <thead>\n",
       "    <tr style=\"text-align: right;\">\n",
       "      <th></th>\n",
       "      <th>Student System ID</th>\n",
       "      <th>Last Name</th>\n",
       "      <th>First Name</th>\n",
       "      <th>Email Address UVA</th>\n",
       "      <th>Primary Acad Program School</th>\n",
       "      <th>Academic Career</th>\n",
       "      <th>Expected Graduation Term</th>\n",
       "    </tr>\n",
       "  </thead>\n",
       "  <tbody>\n",
       "  </tbody>\n",
       "</table>\n",
       "</div>"
      ],
      "text/plain": [
       "Empty DataFrame\n",
       "Columns: [Student System ID, Last Name, First Name, Email Address UVA, Primary Acad Program School, Academic Career, Expected Graduation Term]\n",
       "Index: []"
      ]
     },
     "execution_count": 19,
     "metadata": {},
     "output_type": "execute_result"
    }
   ],
   "source": [
    "enrollment_deduped[enrollment_deduped['Student System ID'] == 123456] # Replace 123456 with an actual Student System ID to check\n"
   ]
  },
  {
   "cell_type": "markdown",
   "id": "259801a2",
   "metadata": {},
   "source": [
    "Perform inner join, merging enrollment and admission data for students that exist in both datasets."
   ]
  },
  {
   "cell_type": "code",
   "execution_count": null,
   "id": "cb8a16e9",
   "metadata": {},
   "outputs": [],
   "source": [
    "merged = pd.merge(enrollment, admission, on='Student System ID', how='inner')\n",
    "cols_to_drop = ['Student System ID','Enrollment Flag']\n",
    "merged = merged.drop(cols_to_drop, axis=1)\n",
    "merged.to_excel('618 Student List 2.xlsx', index=False)"
   ]
  }
 ],
 "metadata": {
  "kernelspec": {
   "display_name": "Python 3",
   "language": "python",
   "name": "python3"
  },
  "language_info": {
   "codemirror_mode": {
    "name": "ipython",
    "version": 3
   },
   "file_extension": ".py",
   "mimetype": "text/x-python",
   "name": "python",
   "nbconvert_exporter": "python",
   "pygments_lexer": "ipython3",
   "version": "3.10.0"
  }
 },
 "nbformat": 4,
 "nbformat_minor": 5
}
