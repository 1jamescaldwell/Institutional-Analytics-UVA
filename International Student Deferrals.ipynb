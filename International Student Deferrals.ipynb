{
 "cells": [
  {
   "cell_type": "markdown",
   "metadata": {},
   "source": [
    "James Caldwell\n",
    "UVA IRA 10/25/24\n",
    "\n",
    "This script was used to analyze international student deferrals and if Visa status might have an effect on deferral decisions."
   ]
  },
  {
   "cell_type": "code",
   "execution_count": null,
   "metadata": {},
   "outputs": [],
   "source": []
  },
  {
   "cell_type": "code",
   "execution_count": 2,
   "metadata": {},
   "outputs": [
    {
     "name": "stdout",
     "output_type": "stream",
     "text": [
      "2018 Fall.xlsx\n",
      "9\n",
      "2019 Fall.xlsx\n",
      "5\n",
      "2020 Fall.xlsx\n",
      "23\n",
      "2020 Summer.xlsx\n",
      "1\n",
      "2021 Fall.xlsx\n",
      "13\n",
      "2022 Fall.xlsx\n",
      "10\n",
      "2023 Fall.xlsx\n",
      "9\n",
      "2024 Fall.xlsx\n",
      "14\n"
     ]
    }
   ],
   "source": [
    "import os\n",
    "import pandas as pd\n",
    "\n",
    "# Define the folder path\n",
    "folder_path = r'V:\\Data Requests\\2024 Requests\\Data Request 546\\defer data'\n",
    "\n",
    "# List to store the DataFrames\n",
    "dataframes = {}\n",
    "\n",
    "# Iterate over all files in the folder\n",
    "for filename in os.listdir(folder_path):\n",
    "    if filename.endswith('.xlsx'):\n",
    "        # Create the full file path\n",
    "        file_path = os.path.join(folder_path, filename)\n",
    "        # Load the Excel file into a DataFrame\n",
    "        df = pd.read_excel(file_path)\n",
    "        print(filename)\n",
    "        print(len(df)-1)\n",
    "        # Store the DataFrame in the dictionary with the filename (without extension) as the key\n",
    "        dataframes[os.path.splitext(filename)[0]] = df\n",
    "\n",
    "# Example to access a specific DataFrame\n",
    "# df_example = dataframes['name_of_file_without_extension']\n",
    "\n"
   ]
  },
  {
   "cell_type": "code",
   "execution_count": 4,
   "metadata": {},
   "outputs": [],
   "source": [
    "student_IDs = []\n",
    "\n",
    "for file in dataframes.keys():\n",
    "    student_IDs = student_IDs + dataframes[file]['Student System ID'].dropna().astype(int).tolist()\n"
   ]
  },
  {
   "cell_type": "code",
   "execution_count": 5,
   "metadata": {},
   "outputs": [],
   "source": [
    "# Convert each element to a string and join them without commas\n",
    "# print(\" \".join(map(str, student_IDs))) "
   ]
  },
  {
   "cell_type": "code",
   "execution_count": 6,
   "metadata": {},
   "outputs": [
    {
     "name": "stderr",
     "output_type": "stream",
     "text": [
      "C:\\Users\\ywe4kw\\AppData\\Local\\Temp\\ipykernel_11240\\3207136594.py:11: SettingWithCopyWarning: \n",
      "A value is trying to be set on a copy of a slice from a DataFrame.\n",
      "Try using .loc[row_indexer,col_indexer] = value instead\n",
      "\n",
      "See the caveats in the documentation: https://pandas.pydata.org/pandas-docs/stable/user_guide/indexing.html#returning-a-view-versus-a-copy\n",
      "  df_here['Defer Year'] = term_desc\n",
      "C:\\Users\\ywe4kw\\AppData\\Local\\Temp\\ipykernel_11240\\3207136594.py:11: SettingWithCopyWarning: \n",
      "A value is trying to be set on a copy of a slice from a DataFrame.\n",
      "Try using .loc[row_indexer,col_indexer] = value instead\n",
      "\n",
      "See the caveats in the documentation: https://pandas.pydata.org/pandas-docs/stable/user_guide/indexing.html#returning-a-view-versus-a-copy\n",
      "  df_here['Defer Year'] = term_desc\n",
      "C:\\Users\\ywe4kw\\AppData\\Local\\Temp\\ipykernel_11240\\3207136594.py:11: SettingWithCopyWarning: \n",
      "A value is trying to be set on a copy of a slice from a DataFrame.\n",
      "Try using .loc[row_indexer,col_indexer] = value instead\n",
      "\n",
      "See the caveats in the documentation: https://pandas.pydata.org/pandas-docs/stable/user_guide/indexing.html#returning-a-view-versus-a-copy\n",
      "  df_here['Defer Year'] = term_desc\n",
      "C:\\Users\\ywe4kw\\AppData\\Local\\Temp\\ipykernel_11240\\3207136594.py:11: SettingWithCopyWarning: \n",
      "A value is trying to be set on a copy of a slice from a DataFrame.\n",
      "Try using .loc[row_indexer,col_indexer] = value instead\n",
      "\n",
      "See the caveats in the documentation: https://pandas.pydata.org/pandas-docs/stable/user_guide/indexing.html#returning-a-view-versus-a-copy\n",
      "  df_here['Defer Year'] = term_desc\n",
      "C:\\Users\\ywe4kw\\AppData\\Local\\Temp\\ipykernel_11240\\3207136594.py:11: SettingWithCopyWarning: \n",
      "A value is trying to be set on a copy of a slice from a DataFrame.\n",
      "Try using .loc[row_indexer,col_indexer] = value instead\n",
      "\n",
      "See the caveats in the documentation: https://pandas.pydata.org/pandas-docs/stable/user_guide/indexing.html#returning-a-view-versus-a-copy\n",
      "  df_here['Defer Year'] = term_desc\n",
      "C:\\Users\\ywe4kw\\AppData\\Local\\Temp\\ipykernel_11240\\3207136594.py:11: SettingWithCopyWarning: \n",
      "A value is trying to be set on a copy of a slice from a DataFrame.\n",
      "Try using .loc[row_indexer,col_indexer] = value instead\n",
      "\n",
      "See the caveats in the documentation: https://pandas.pydata.org/pandas-docs/stable/user_guide/indexing.html#returning-a-view-versus-a-copy\n",
      "  df_here['Defer Year'] = term_desc\n",
      "C:\\Users\\ywe4kw\\AppData\\Local\\Temp\\ipykernel_11240\\3207136594.py:11: SettingWithCopyWarning: \n",
      "A value is trying to be set on a copy of a slice from a DataFrame.\n",
      "Try using .loc[row_indexer,col_indexer] = value instead\n",
      "\n",
      "See the caveats in the documentation: https://pandas.pydata.org/pandas-docs/stable/user_guide/indexing.html#returning-a-view-versus-a-copy\n",
      "  df_here['Defer Year'] = term_desc\n",
      "C:\\Users\\ywe4kw\\AppData\\Local\\Temp\\ipykernel_11240\\3207136594.py:11: SettingWithCopyWarning: \n",
      "A value is trying to be set on a copy of a slice from a DataFrame.\n",
      "Try using .loc[row_indexer,col_indexer] = value instead\n",
      "\n",
      "See the caveats in the documentation: https://pandas.pydata.org/pandas-docs/stable/user_guide/indexing.html#returning-a-view-versus-a-copy\n",
      "  df_here['Defer Year'] = term_desc\n"
     ]
    }
   ],
   "source": [
    "# Combine each year's data into a single dataframe\n",
    "\n",
    "all_data = pd.DataFrame()\n",
    "\n",
    "for term_desc in dataframes.keys():\n",
    "\n",
    "    # Drop rows with missing values in student system id\n",
    "    df_here = dataframes[term_desc].dropna(subset=['Student System ID'])\n",
    "\n",
    "    # Add column for defer year\n",
    "    df_here['Defer Year'] = term_desc\n",
    "    all_data = pd.concat([all_data, df_here], ignore_index=True)\n",
    "\n"
   ]
  },
  {
   "cell_type": "code",
   "execution_count": 7,
   "metadata": {},
   "outputs": [],
   "source": [
    "# Load enrollment info\n",
    "enrollment_data = pd.read_excel(r\"V:\\Data Requests\\2024 Requests\\Data Request 546\\start dates\\start dates.xlsx\")\n",
    "\n",
    "# Remove duplicates based on 'Student System ID', keeping the first instance\n",
    "enrollment_data = enrollment_data.drop_duplicates(subset=['Student System ID'], keep='first')\n",
    "\n",
    "enrollment_data.rename(columns={'Term Desc': 'Start Term Desc'}, inplace=True)"
   ]
  },
  {
   "cell_type": "code",
   "execution_count": 6,
   "metadata": {},
   "outputs": [],
   "source": [
    "# Merge all_data and enrollment_data on 'Student System ID'\n",
    "merged_data = pd.merge(all_data, enrollment_data, on='Student System ID', how='outer')"
   ]
  },
  {
   "cell_type": "code",
   "execution_count": 7,
   "metadata": {},
   "outputs": [
    {
     "name": "stdout",
     "output_type": "stream",
     "text": [
      "45\n"
     ]
    }
   ],
   "source": [
    "distinct_count = merged_data['Primary Name_y'].nunique()\n",
    "\n",
    "print(distinct_count)"
   ]
  },
  {
   "cell_type": "code",
   "execution_count": 8,
   "metadata": {},
   "outputs": [],
   "source": [
    "# merged_data['Delay Time (years)'] = merged_data['Start Term Desc'].iloc[:4].astype(int) - merged_data['Defer Year'].iloc[:4].astype(int)"
   ]
  },
  {
   "cell_type": "code",
   "execution_count": 13,
   "metadata": {},
   "outputs": [],
   "source": [
    "# Drop rows with NaN values in the specified columns\n",
    "cleaned_data = merged_data[['Start Term Desc', 'Defer Year']].dropna()\n",
    "\n",
    "\n",
    "\n",
    "start_term_desc_chars = cleaned_data['Start Term Desc'].str[:4].astype(int)  # Convert to integers\n",
    "defer_year_chars = cleaned_data['Defer Year'].str[:4].astype(int)  # Convert to integers\n",
    "\n",
    "# Perform the subtraction for the valid rows\n",
    "result = start_term_desc_chars - defer_year_chars\n",
    "\n",
    "# Assign the calculated differences for the first four valid rows\n",
    "merged_data.loc[cleaned_data.index, 'Defer Time'] = result\n",
    "\n",
    "\n"
   ]
  },
  {
   "cell_type": "code",
   "execution_count": 14,
   "metadata": {},
   "outputs": [],
   "source": [
    "merged_data.to_excel(r'V:\\Data Requests\\2024 Requests\\Data Request 546\\summary.xlsx', index=False)"
   ]
  }
 ],
 "metadata": {
  "kernelspec": {
   "display_name": "Python 3",
   "language": "python",
   "name": "python3"
  },
  "language_info": {
   "codemirror_mode": {
    "name": "ipython",
    "version": 3
   },
   "file_extension": ".py",
   "mimetype": "text/x-python",
   "name": "python",
   "nbconvert_exporter": "python",
   "pygments_lexer": "ipython3",
   "version": "3.10.0"
  }
 },
 "nbformat": 4,
 "nbformat_minor": 2
}
