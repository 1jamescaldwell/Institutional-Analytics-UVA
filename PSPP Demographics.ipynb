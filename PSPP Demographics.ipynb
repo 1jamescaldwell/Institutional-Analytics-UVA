{
 "cells": [
  {
   "cell_type": "code",
   "execution_count": 1,
   "metadata": {},
   "outputs": [],
   "source": [
    "# James Caldwell, UVA IRA\n",
    "# 12/17/24\n",
    "# Report for generating demographics for the Public Service Pathways program (several hundred students)\n",
    "   # Gender, race, year, first generation status, residency, school\n",
    "# Data came from qlik with some sorting done in excel before importing, cleaning, and calculating percentage breakdowns.\n",
    "\n",
    "import pandas as pd\n",
    "\n",
    "data = pd.read_excel('PSPP Data.xlsx')"
   ]
  },
  {
   "cell_type": "code",
   "execution_count": 2,
   "metadata": {},
   "outputs": [],
   "source": [
    "df_cleaned = data.drop_duplicates(subset='Email Address UVA',keep='last')\n",
    "data_filtered = df_cleaned.iloc[:, 1:]"
   ]
  },
  {
   "cell_type": "code",
   "execution_count": null,
   "metadata": {},
   "outputs": [],
   "source": [
    "# Function to calculate unique entries and percentages\n",
    "def get_unique_values_with_percentages(df):\n",
    "    result = {}\n",
    "    for column in df.columns:\n",
    "        value_counts = df[column].value_counts(normalize=True) * 100\n",
    "        result[column] = value_counts.reset_index().rename(columns={'index': 'Value', column: 'Percentage'})\n",
    "    return result\n",
    "\n",
    "# Get percentages\n",
    "unique_values_percentages = get_unique_values_with_percentages(data_filtered)\n"
   ]
  },
  {
   "cell_type": "code",
   "execution_count": 21,
   "metadata": {},
   "outputs": [
    {
     "name": "stdout",
     "output_type": "stream",
     "text": [
      "Column: Student Academic Yr\n",
      "    Percentage  proportion\n",
      "0   First-Year   69.821429\n",
      "1   Third-Year   15.535714\n",
      "2  Second-Year   14.107143\n",
      "3  Fourth-Year    0.535714\n",
      "\n"
     ]
    }
   ],
   "source": [
    "# Display group breakdowns\n",
    "i = 1\n",
    "for column, data in unique_values_percentages.items():\n",
    "    if i == 1: # Adjust 1 through 7 here to print out different groups\n",
    "        print(f\"Column: {column}\")\n",
    "        print(data)\n",
    "        print()\n",
    "    i = i + 1"
   ]
  }
 ],
 "metadata": {
  "kernelspec": {
   "display_name": "Python 3",
   "language": "python",
   "name": "python3"
  },
  "language_info": {
   "codemirror_mode": {
    "name": "ipython",
    "version": 3
   },
   "file_extension": ".py",
   "mimetype": "text/x-python",
   "name": "python",
   "nbconvert_exporter": "python",
   "pygments_lexer": "ipython3",
   "version": "3.10.0"
  }
 },
 "nbformat": 4,
 "nbformat_minor": 2
}
