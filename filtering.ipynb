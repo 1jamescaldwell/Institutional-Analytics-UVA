{
 "cells": [
  {
   "cell_type": "markdown",
   "metadata": {},
   "source": [
    "James Caldwell\n",
    "UVA IRA\n",
    "10/30/2024"
   ]
  },
  {
   "cell_type": "code",
   "execution_count": null,
   "metadata": {},
   "outputs": [],
   "source": [
    "import pandas as pd\n",
    "import os \n",
    "\n",
    "# Set the working directory\n",
    "os.chdir(r'\\\\garnet.storage.virginia.edu\\hsz-finadmin\\Custom\\SFS_FVT-GE-Reporting\\2024\\Program Level Report')\n",
    "\n",
    "data = pd.read_excel('State Licensure Data Collection.xlsx')\n",
    "\n",
    "filtered = data[data['State of Licensing Agency'] == 'Virginia']\n",
    "\n",
    "filtered.to_excel('UVA Programs.xlsx')\n"
   ]
  },
  {
   "cell_type": "code",
   "execution_count": 10,
   "metadata": {},
   "outputs": [],
   "source": [
    "overall_program_data = data[data['Overall Program Data'] == 'Yes']\n",
    "\n",
    "matches = filtered['Program Name'].reset_index(drop=True) == overall_program_data['Program Name'].reset_index(drop=True)\n",
    "\n"
   ]
  },
  {
   "cell_type": "markdown",
   "metadata": {},
   "source": []
  }
 ],
 "metadata": {
  "kernelspec": {
   "display_name": "Python 3",
   "language": "python",
   "name": "python3"
  },
  "language_info": {
   "codemirror_mode": {
    "name": "ipython",
    "version": 3
   },
   "file_extension": ".py",
   "mimetype": "text/x-python",
   "name": "python",
   "nbconvert_exporter": "python",
   "pygments_lexer": "ipython3",
   "version": "3.10.0"
  }
 },
 "nbformat": 4,
 "nbformat_minor": 2
}
